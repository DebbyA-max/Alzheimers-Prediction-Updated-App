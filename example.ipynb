{
 "cells": [
  {
   "cell_type": "code",
   "execution_count": 2,
   "id": "6629e18f-221c-4db3-9307-8f5265c7e72c",
   "metadata": {},
   "outputs": [],
   "source": [
    "import numpy as np\n",
    "import pandas as pd\n",
    "import matplotlib.pyplot as plt\n",
    "import joblib"
   ]
  },
  {
   "cell_type": "code",
   "execution_count": 3,
   "id": "a6629aa6-7a53-4c7a-9396-b13dc7b94111",
   "metadata": {},
   "outputs": [],
   "source": [
    "model=joblib.load(\"alzheimers_model_2.pkl\")"
   ]
  },
  {
   "cell_type": "code",
   "execution_count": 4,
   "id": "7b75a198-a81d-44f7-ae43-ec7d9c67b773",
   "metadata": {},
   "outputs": [
    {
     "name": "stdin",
     "output_type": "stream",
     "text": [
      "What is the Patient's educational level?:  0\n",
      "What is the Patient's age?:  89\n",
      "What is the patient's diastolic blood pressure in mmHg?:  81\n",
      "Does the patient have behavioral problems? (yes/no):  no\n",
      "What is the patient's total cholesterol level in mg/dL?:  243.93\n",
      "What is the patient's Body Mass Index?:  34.85\n",
      "What is the patient's systolic blood pressure in mmHg?:  163\n",
      "What is the level of low density lipoprotein cholesterol in the patient in mg/dL?:  55.58\n",
      "What is the patient's Diet quality score?:  0.15\n",
      "What is the patient's weekly alcohol consumption in units?:  7.01\n",
      "What is the patient's Triglycerides level in mg/dL?:  194.03\n",
      "What is the level of high density lipoprotein cholesterol in the patient in mg/dL?:  77.77\n",
      "What is the patient's sleep quality score?:  7.97\n",
      "What is the patient's weekly physical activity in hours?:  0.22\n",
      "Does the patient have memory complaints? (yes/no):  yes\n",
      "What is the Mini-Mental State Examination score of the patient?:  8.18\n",
      "What is the activities of daily living score of the patient?:  8.03\n",
      "What is the functional assessment score of the patient?:  3.96\n"
     ]
    }
   ],
   "source": [
    "#Collecting patient's data:\n",
    "EducationLevel = int(input(\"What is the Patient's educational level?: \"))\n",
    "Age = int(input(\"What is the Patient's age?: \"))\n",
    "DiastolicBP = float(input(\"What is the patient's diastolic blood pressure in mmHg?: \"))\n",
    "BehavioralProblems = input(\"Does the patient have behavioral problems? (yes/no): \").strip().lower()\n",
    "BehavioralProblems = 1 if BehavioralProblems == 'yes' else 0\n",
    "CholesterolTotal = float(input(\"What is the patient's total cholesterol level in mg/dL?: \"))\n",
    "BMI = float(input(\"What is the patient's Body Mass Index?: \"))\n",
    "SystolicBP = float(input(\"What is the patient's systolic blood pressure in mmHg?: \"))\n",
    "CholesterolLDL = float(input(\"What is the level of low density lipoprotein cholesterol in the patient in mg/dL?: \"))\n",
    "DietQuality = float(input(\"What is the patient's Diet quality score?: \"))\n",
    "AlcoholConsumption = float(input(\"What is the patient's weekly alcohol consumption in units?: \"))\n",
    "CholesterolTriglycerides = float(input(\"What is the patient's Triglycerides level in mg/dL?: \"))\n",
    "CholesterolHDL = float(input(\"What is the level of high density lipoprotein cholesterol in the patient in mg/dL?: \"))\n",
    "SleepQuality = float(input(\"What is the patient's sleep quality score?: \"))\n",
    "PhysicalActivity = float(input(\"What is the patient's weekly physical activity in hours?: \"))  \n",
    "MemoryComplaints = input(\"Does the patient have memory complaints? (yes/no): \").strip().lower()\n",
    "MemoryComplaints = 1 if MemoryComplaints == 'yes' else 0\n",
    "MMSE = float(input(\"What is the Mini-Mental State Examination score of the patient?: \"))\n",
    "ADL = float(input(\"What is the activities of daily living score of the patient?: \"))\n",
    "FunctionalAssessment = float(input(\"What is the functional assessment score of the patient?: \"))\n",
    "\n",
    "\n",
    "# Create a DataFrame for prediction\n",
    "patient_data = pd.DataFrame([{\n",
    "    'EducationLevel': EducationLevel,\n",
    "    'Age': Age,\n",
    "    'DiastolicBP': DiastolicBP,\n",
    "    'BehavioralProblems': BehavioralProblems,\n",
    "    'CholesterolTotal': CholesterolTotal,\n",
    "    'BMI': BMI,\n",
    "    'SystolicBP': SystolicBP,\n",
    "    'CholesterolLDL': CholesterolLDL,\n",
    "    'DietQuality': DietQuality,\n",
    "    'AlcoholConsumption': AlcoholConsumption,\n",
    "    'CholesterolTriglycerides': CholesterolTriglycerides,\n",
    "    'CholesterolHDL': CholesterolHDL,\n",
    "    'SleepQuality': SleepQuality,\n",
    "    'PhysicalActivity': PhysicalActivity,\n",
    "    'MemoryComplaints': MemoryComplaints,\n",
    "    'MMSE': MMSE,\n",
    "    'ADL': ADL,\n",
    "    'FunctionalAssessment': FunctionalAssessment,\n",
    "}])\n",
    "\n",
    "# Ensure proper data types (convert to numeric where applicable)\n",
    "try:\n",
    "    patient_data = patient_data.apply(pd.to_numeric)\n",
    "except Exception as e:\n",
    "    print(\"Conversion error:\", e)"
   ]
  },
  {
   "cell_type": "code",
   "execution_count": 11,
   "id": "c0e51741-8700-4f34-9b66-9b102dbe7f3e",
   "metadata": {},
   "outputs": [
    {
     "name": "stdout",
     "output_type": "stream",
     "text": [
      "Input columns: ['FunctionalAssessment', 'ADL', 'MMSE', 'MemoryComplaints', 'SleepQuality', 'PhysicalActivity', 'CholesterolTriglycerides', 'AlcoholConsumption', 'CholesterolHDL', 'BMI', 'DietQuality', 'CholesterolLDL', 'CholesterolTotal', 'SystolicBP', 'DiastolicBP', 'Age', 'EducationLevel', 'BehavioralProblems']\n",
      "Expected columns: ['FunctionalAssessment', 'ADL', 'MMSE', 'MemoryComplaints', 'SleepQuality', 'PhysicalActivity', 'CholesterolTriglycerides', 'AlcoholConsumption', 'CholesterolHDL', 'BMI', 'DietQuality', 'CholesterolLDL', 'CholesterolTotal', 'SystolicBP', 'DiastolicBP', 'Age', 'EducationLevel', 'BehavioralProblems']\n"
     ]
    }
   ],
   "source": [
    "print(\"Input columns:\", list(patient_data.columns))\n",
    "print(\"Expected columns:\", list(model.feature_names_in_))"
   ]
  },
  {
   "cell_type": "code",
   "execution_count": 12,
   "id": "c73b1ddf-ba82-4145-a7a8-93974f71b16e",
   "metadata": {},
   "outputs": [],
   "source": [
    "# Reorder columns to match training\n",
    "patient_data = patient_data[model.feature_names_in_]\n",
    "\n",
    "# Make prediction\n",
    "prediction = model.predict(patient_data)"
   ]
  },
  {
   "cell_type": "code",
   "execution_count": 13,
   "id": "50967f4a-d0a3-443e-b138-58101c9fd05a",
   "metadata": {},
   "outputs": [
    {
     "name": "stdout",
     "output_type": "stream",
     "text": [
      "Patient may have Alzheimer's disease.\n",
      "Prediction confidence: [1]\n"
     ]
    }
   ],
   "source": [
    "if prediction == 1:\n",
    "    print(\"Patient may have Alzheimer's disease.\")\n",
    "else:\n",
    "    print(\"Patient is unlikely to have Alzheimer's disease.\")\n",
    "\n",
    "print(\"Prediction confidence:\", prediction)"
   ]
  },
  {
   "cell_type": "code",
   "execution_count": 14,
   "id": "707ed943-d81f-4b21-b29b-eef056ef81a1",
   "metadata": {},
   "outputs": [],
   "source": [
    "app_code=\"\"\"\n",
    "import streamlit as st\n",
    "import numpy as np\n",
    "import joblib\n",
    "\n",
    "model = joblib.load(\"alzheimers_model_2.pkl\")\n",
    "st.title(\"Alzheimer's Disease Prediction App\")\n",
    "st.write(\"Enter the patient data below to predict Alzheimer's Diagnosis.\")\n",
    "\n",
    "\n",
    "FunctionalAssessment = st.number_input(\"Functional Assessment Score\", min_value=0.0, max_value=10.0, value=0.0, key=\"fun_acc_input\")\n",
    "ADL = st.number_input(\"Activities of Daily Living Score\", min_value=0.0, max_value=10.0, value=0.0, key=\"ADL_input\")\n",
    "MMSE = st.number_input(\"Mini-Mental State Examination score\", min_value=0.0, max_value=30.0, value=0.0, key=\"MMSE_input\")\n",
    "\n",
    "MemoryComplaints = st.radio(\"Presence of Memory Complaints\", [\"Yes\", \"No\"], key=\"mce_input\")\n",
    "MemoryComplaints_encoded = 1 if MemoryComplaints == \"Yes\" else 0\n",
    "\n",
    "PhysicalActivity = st.number_input(\"Weekly Physical Activity (Hours)\", min_value=0.0, max_value=10.0, value=0.0, key=\"pha_input\")\n",
    "SleepQuality = st.number_input(\"Sleep Quality Score\", min_value=4.0, max_value=10.0, value=4.0, key=\"slp_input\")\n",
    "CholesterolHDL = st.number_input(\"High Density Lipoprotein Cholesterol Level (mg/dL)\", min_value=20.0, max_value=100.0, value=20.0, key=\"chdl_input\")\n",
    "CholesterolTriglycerides = st.number_input(\"Triglycerides Level (mg/dL)\", min_value=50.0, max_value=400.0, value=50.0, key=\"ctry_input\")\n",
    "AlcoholConsumption = st.number_input(\"Weekly Alcohol Consumption (Units)\", min_value=0.0, max_value=20.0, value=0.0, key=\"alc_input\")\n",
    "DietQuality = st.number_input(\"Diet Quality Score\", min_value=0.0, value=0.0, key=\"diq_input\")\n",
    "CholesterolLDL = st.number_input(\"Low Density Lipoprotein Cholesterol Level (mg/dL)\", min_value=50.0, max_value=200.0, value=50.0, key=\"cldl_input\")\n",
    "SystolicBP = st.number_input(\"Systolic Blood Pressure (mmHg)\", min_value=90.0, max_value=180.0, value=90.0, key=\"sbp_input\")\n",
    "BMI = st.number_input(\"Body Mass Index\", min_value=15.0, max_value=40.0, value=15.0, key=\"bmi_input\")\n",
    "CholesterolTotal = st.number_input(\"Total Cholesterol Level (mg/dL)\", min_value=150.0, max_value=300.0, value=150.0, key=\"cht_input\")\n",
    "\n",
    "BehavioralProblems = st.radio(\"Presence of Behavioral Problems\", [\"Yes\", \"No\"], key=\"bpe_input\")\n",
    "BehavioralProblems_encoded = 1 if BehavioralProblems == \"Yes\" else 0\n",
    "\n",
    "DiastolicBP = st.number_input(\"Diastolic Blood Pressure (mmHg)\", min_value=60.0, max_value=120.0, value=60.0, key=\"dbp_input\")\n",
    "Age = st.number_input(\"Patient's Age\", min_value=60.0, max_value=90.0, value=60.0, key=\"age_input\")\n",
    "\n",
    "education_options = [\n",
    "    \"0: None\",\n",
    "    \"1: High School\",\n",
    "    \"2: Bachelor's\",\n",
    "    \"3: Higher\"\n",
    "]\n",
    "education_selected = st.radio(\"Select the Patient's Education Level:\", education_options, key=\"edu_input\")\n",
    "EducationLevel_encoded = float(education_selected.split(\":\")[0])  # float to match others\n",
    "\n",
    "input_data = np.array([[\n",
    "    Age, EducationLevel_encoded, DietQuality, SleepQuality, PhysicalActivity, \n",
    "    ADL, AlcoholConsumption, BMI, DiastolicBP, SystolicBP, \n",
    "    CholesterolLDL, CholesterolHDL, CholesterolTriglycerides, CholesterolTotal,  \n",
    "    MemoryComplaints_encoded, BehavioralProblems_encoded, FunctionalAssessment, MMSE,\n",
    "]])\n",
    "\n",
    "\n",
    "if st.button(\"Predict\"):\n",
    "    prediction = model.predict(input_data)[0]\n",
    "    st.success(f\"Prediction: {prediction}\")\n",
    "\"\"\""
   ]
  },
  {
   "cell_type": "code",
   "execution_count": 15,
   "id": "82dd5f5d-e062-443b-a1a7-ad58495318ef",
   "metadata": {},
   "outputs": [],
   "source": [
    "with open(\"app.py\", \"w\") as f:\n",
    "    f.write(app_code)\n"
   ]
  },
  {
   "cell_type": "code",
   "execution_count": 16,
   "id": "ec35a618-df21-4fa1-b349-9405dcb9e88c",
   "metadata": {},
   "outputs": [
    {
     "name": "stdout",
     "output_type": "stream",
     "text": [
      "\n",
      "import streamlit as st\n",
      "import numpy as np\n",
      "import joblib\n",
      "\n",
      "model = joblib.load(\"alzheimers_model_2.pkl\")\n",
      "st.title(\"Alzheimer's Disease Prediction App\")\n",
      "st.write(\"Enter the patient data below to predict Alzheimer's Diagnosis.\")\n",
      "\n",
      "\n",
      "FunctionalAssessment = st.number_input(\"Functional Assessment Score\", min_value=0.0, max_value=10.0, value=0.0, key=\"fun_acc_input\")\n",
      "ADL = st.number_input(\"Activities of Daily Living Score\", min_value=0.0, max_value=10.0, value=0.0, key=\"ADL_input\")\n",
      "MMSE = st.number_input(\"Mini-Mental State Examination score\", min_value=0.0, max_value=30.0, value=0.0, key=\"MMSE_input\")\n",
      "\n",
      "MemoryComplaints = st.radio(\"Presence of Memory Complaints\", [\"Yes\", \"No\"], key=\"mce_input\")\n",
      "MemoryComplaints_encoded = 1 if MemoryComplaints == \"Yes\" else 0\n",
      "\n",
      "PhysicalActivity = st.number_input(\"Weekly Physical Activity (Hours)\", min_value=0.0, max_value=10.0, value=0.0, key=\"pha_input\")\n",
      "SleepQuality = st.number_input(\"Sleep Quality Score\", min_value=4.0, max_value=10.0, value=4.0, key=\"slp_input\")\n",
      "CholesterolHDL = st.number_input(\"High Density Lipoprotein Cholesterol Level (mg/dL)\", min_value=20.0, max_value=100.0, value=20.0, key=\"chdl_input\")\n",
      "CholesterolTriglycerides = st.number_input(\"Triglycerides Level (mg/dL)\", min_value=50.0, max_value=400.0, value=50.0, key=\"ctry_input\")\n",
      "AlcoholConsumption = st.number_input(\"Weekly Alcohol Consumption (Units)\", min_value=0.0, max_value=20.0, value=0.0, key=\"alc_input\")\n",
      "DietQuality = st.number_input(\"Diet Quality Score\", min_value=0.0, value=0.0, key=\"diq_input\")\n",
      "CholesterolLDL = st.number_input(\"Low Density Lipoprotein Cholesterol Level (mg/dL)\", min_value=50.0, max_value=200.0, value=50.0, key=\"cldl_input\")\n",
      "SystolicBP = st.number_input(\"Systolic Blood Pressure (mmHg)\", min_value=90.0, max_value=180.0, value=90.0, key=\"sbp_input\")\n",
      "BMI = st.number_input(\"Body Mass Index\", min_value=15.0, max_value=40.0, value=15.0, key=\"bmi_input\")\n",
      "CholesterolTotal = st.number_input(\"Total Cholesterol Level (mg/dL)\", min_value=150.0, max_value=300.0, value=150.0, key=\"cht_input\")\n",
      "\n",
      "BehavioralProblems = st.radio(\"Presence of Behavioral Problems\", [\"Yes\", \"No\"], key=\"bpe_input\")\n",
      "BehavioralProblems_encoded = 1 if BehavioralProblems == \"Yes\" else 0\n",
      "\n",
      "DiastolicBP = st.number_input(\"Diastolic Blood Pressure (mmHg)\", min_value=60.0, max_value=120.0, value=60.0, key=\"dbp_input\")\n",
      "Age = st.number_input(\"Patient's Age\", min_value=60.0, max_value=90.0, value=60.0, key=\"age_input\")\n",
      "\n",
      "education_options = [\n",
      "    \"0: None\",\n",
      "    \"1: High School\",\n",
      "    \"2: Bachelor's\",\n",
      "    \"3: Higher\"\n",
      "]\n",
      "education_selected = st.radio(\"Select the Patient's Education Level:\", education_options, key=\"edu_input\")\n",
      "EducationLevel_encoded = float(education_selected.split(\":\")[0])  # float to match others\n",
      "\n",
      "input_data = np.array([[\n",
      "    Age, EducationLevel_encoded, DietQuality, SleepQuality, PhysicalActivity, \n",
      "    ADL, AlcoholConsumption, BMI, DiastolicBP, SystolicBP, \n",
      "    CholesterolLDL, CholesterolHDL, CholesterolTriglycerides, CholesterolTotal,  \n",
      "    MemoryComplaints_encoded, BehavioralProblems_encoded, FunctionalAssessment, MMSE,\n",
      "]])\n",
      "\n",
      "\n",
      "if st.button(\"Predict\"):\n",
      "    prediction = model.predict(input_data)[0]\n",
      "    st.success(f\"Prediction: {prediction}\")\n",
      "\n"
     ]
    }
   ],
   "source": [
    "with open(\"app.py\") as f:\n",
    "    print(f.read())\n"
   ]
  },
  {
   "cell_type": "code",
   "execution_count": null,
   "id": "cbce354d-c342-422c-8fdc-64ff513cc0f3",
   "metadata": {},
   "outputs": [],
   "source": []
  }
 ],
 "metadata": {
  "kernelspec": {
   "display_name": "Python 3 (ipykernel)",
   "language": "python",
   "name": "python3"
  },
  "language_info": {
   "codemirror_mode": {
    "name": "ipython",
    "version": 3
   },
   "file_extension": ".py",
   "mimetype": "text/x-python",
   "name": "python",
   "nbconvert_exporter": "python",
   "pygments_lexer": "ipython3",
   "version": "3.13.2"
  }
 },
 "nbformat": 4,
 "nbformat_minor": 5
}
